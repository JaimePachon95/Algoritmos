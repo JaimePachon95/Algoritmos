{
 "cells": [
  {
   "cell_type": "markdown",
   "metadata": {},
   "source": [
    "<p style=\"font-size:180%; text-align:center; line-height : 40px; margin-top : 0; \"> Universidad Nacional de Colombia Sede Bogotá</p>\n",
    "<p style=\"font-size:160%; text-align:center; line-height : 30px; margin-top : 0; \"> Facultad de Ingeniería</p>\n",
    "<br>\n",
    "\n",
    "\n",
    "<p style=\"font-size:300%; background-color:MEDIUMAQUAMARINE; color:white; text-align:center;line-height : 80px; margin : 0; padding : 0;\">\n",
    "Laboratorio 2 Fibonacci</p>\n",
    "<p style=\"font-size:240%; background-color:DARKCYAN; color:white; text-align:center;line-height : 60px; margin : 0; padding : 0;\">\n",
    "2016696 Algoritmos </p>\n",
    "\n",
    "\n",
    "\n",
    "\n",
    "\n",
    "<p style=\"font-size:150%; text-align:center; line-height : 20px;  margin-top : 0; margin-bottom : 0; \"> <br>Jaime Arturo Pachón Pinilla - japachonp@unal.edu.co  \n"
   ]
  },
  {
   "cell_type": "markdown",
   "metadata": {},
   "source": [
    "<h1 style=\"font-size:200%; background-color:\t\n",
    "TEAL; color:white; text-align:center; line-height : 50px;\">\n",
    " Librerias a importar</h1>\n"
   ]
  },
  {
   "cell_type": "code",
   "execution_count": 1,
   "metadata": {},
   "outputs": [],
   "source": [
    "import time\n",
    "import numpy as np\n",
    "from matplotlib import pyplot as plt\n",
    "%matplotlib inline"
   ]
  },
  {
   "cell_type": "markdown",
   "metadata": {},
   "source": [
    "<h1 style=\"font-size:200%; background-color:\t\n",
    "TEAL; color:white; text-align:center; line-height : 50px;\">\n",
    " Definición de Funciones</h1>\n"
   ]
  },
  {
   "cell_type": "code",
   "execution_count": 2,
   "metadata": {},
   "outputs": [],
   "source": [
    "def Fibonacci(nterm):\n",
    "    Tiempo_inicio = time.time()\n",
    "    n1 = 0\n",
    "    n2 = 1\n",
    "    cuenta = 0\n",
    "    if(nterm==1):\n",
    "        print(n1)\n",
    "    else: \n",
    "        while cuenta < nterm:\n",
    "            nesimo = n1 + n2\n",
    "            n1 = n2\n",
    "            n2 = nesimo\n",
    "            cuenta += 1\n",
    "    return (time.time() - Tiempo_inicio)"
   ]
  },
  {
   "cell_type": "code",
   "execution_count": 5,
   "metadata": {},
   "outputs": [
    {
     "name": "stdout",
     "output_type": "stream",
     "text": [
      "Ingrese el término n :20000\n",
      "0\n"
     ]
    }
   ],
   "source": [
    "nterminos = int(input(\"Ingrese el término n :\"))\n",
    "tiempo = []\n",
    "for i in range(nterminos):\n",
    "    tiempo.append(Fibonacci(i))"
   ]
  },
  {
   "cell_type": "code",
   "execution_count": 6,
   "metadata": {},
   "outputs": [
    {
     "data": {
      "image/png": "[encoded data removed]",
      "text/plain": [
       "<matplotlib.figure.Figure at 0x7ffbbf590588>"
      ]
     },
     "metadata": {},
     "output_type": "display_data"
    }
   ],
   "source": [
    "plt.ylabel(\"Tiempo (s)\")\n",
    "plt.xlabel('Tamaño (n)')\n",
    "x = np.arange(nterminos)\n",
    "y = np.array(tiempo)\n",
    "plt.plot(x, y,'b.');\n"
   ]
  },
  {
   "cell_type": "code",
   "execution_count": null,
   "metadata": {},
   "outputs": [],
   "source": []
  }
 ],
 "metadata": {
  "kernelspec": {
   "display_name": "Python 3",
   "language": "python",
   "name": "python3"
  },
  "language_info": {
   "codemirror_mode": {
    "name": "ipython",
    "version": 3
   },
   "file_extension": ".py",
   "mimetype": "text/x-python",
   "name": "python",
   "nbconvert_exporter": "python",
   "pygments_lexer": "ipython3",
   "version": "3.6.4"
  }
 },
 "nbformat": 4,
 "nbformat_minor": 2
}
