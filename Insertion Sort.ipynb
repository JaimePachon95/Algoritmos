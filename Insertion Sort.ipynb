{
 "cells": [
  {
   "cell_type": "markdown",
   "metadata": {},
   "source": [
    "<p style=\"font-size:180%; text-align:center; line-height : 40px; margin-top : 0; \"> Universidad Nacional de Colombia Sede Bogotá</p>\n",
    "<p style=\"font-size:160%; text-align:center; line-height : 30px; margin-top : 0; \"> Facultad de Ingeniería</p>\n",
    "<br>\n",
    "\n",
    "\n",
    "<p style=\"font-size:300%; background-color:MEDIUMAQUAMARINE; color:white; text-align:center;line-height : 80px; margin : 0; padding : 0;\">\n",
    "Laboratorio 2 Insertion Sort</p>\n",
    "<p style=\"font-size:240%; background-color:DARKCYAN; color:white; text-align:center;line-height : 60px; margin : 0; padding : 0;\">\n",
    "2016696 Algoritmos </p>\n",
    "\n",
    "\n",
    "\n",
    "\n",
    "\n",
    "<p style=\"font-size:150%; text-align:center; line-height : 20px;  margin-top : 0; margin-bottom : 0; \"> <br>Jaime Arturo Pachón Pinilla - japachonp@unal.edu.co  \n",
    "\n"
   ]
  },
  {
   "cell_type": "markdown",
   "metadata": {},
   "source": [
    "<h1 style=\"font-size:200%; background-color:\t\n",
    "TEAL; color:white; text-align:center; line-height : 50px;\">\n",
    " Librerias a importar</h1>\n"
   ]
  },
  {
   "cell_type": "code",
   "execution_count": 1,
   "metadata": {},
   "outputs": [],
   "source": [
    "import numpy as np\n",
    "import itertools\n",
    "import matplotlib.pyplot as plt"
   ]
  },
  {
   "cell_type": "markdown",
   "metadata": {},
   "source": [
    "<h1 style=\"font-size:200%; background-color:\t\n",
    "TEAL; color:white; text-align:center; line-height : 50px;\">\n",
    " Funciones</h1>"
   ]
  },
  {
   "cell_type": "code",
   "execution_count": 2,
   "metadata": {},
   "outputs": [],
   "source": [
    "# Función que ordenará el arreglo utilizando Insertion Sort y retorna el número de instrucciones\n",
    "def InsSortNum (array):\n",
    "    A = array.copy()\n",
    "    steps = 0\n",
    "    for j in range (1,len(A)):\n",
    "        key = A[j]\n",
    "        i = j-1\n",
    "        while (i > -1) & (A[i] > key):\n",
    "            A[i+1] = A[i]\n",
    "            i = i-1\n",
    "            steps = steps + 3\n",
    "        steps = steps + 1\n",
    "        A[i+1] = key\n",
    "        steps = steps + 4\n",
    "    steps = steps + 1\n",
    "    return A, steps\n",
    "\n",
    "\n",
    "# Función que ordenará el arreglo utilizando Insertion Sort y retorna el número de comparaciones\n",
    "def InsSortCom (array):\n",
    "    A = array.copy()\n",
    "    steps = 0\n",
    "    for j in range (1,len(A)):\n",
    "        key = A[j]\n",
    "        i = j-1\n",
    "        while (i > -1) & (A[i] > key):\n",
    "            A[i+1] = A[i]\n",
    "            i = i-1\n",
    "            steps = steps + 1\n",
    "        if (j!=-1):\n",
    "            steps = steps + 1\n",
    "        A[i+1] = key\n",
    "    return A, steps\n",
    "\n",
    "# Función que ordenará el arreglo utilizando Insertion Sort y retorna el número de preguntas que del while\n",
    "def InsSortWhi (array):\n",
    "    A = array.copy()\n",
    "    steps = 0\n",
    "    for j in range (1,len(A)):\n",
    "        key = A[j]\n",
    "        i = j-1\n",
    "        while (i > -1) & (A[i] > key):\n",
    "            A[i+1] = A[i]\n",
    "            i = i-1\n",
    "            steps = steps + 1\n",
    "        steps = steps + 1\n",
    "        A[i+1] = key\n",
    "    return A, steps\n",
    "\n",
    "\n",
    "# Función que ordenará el arreglo utilizando Insertion Sort y retorna el número de intercambios\n",
    "def InsSortSwap (array):\n",
    "    A = array.copy()\n",
    "    steps = 0\n",
    "    for j in range (1,len(A)):\n",
    "        key = A[j]\n",
    "        i = j-1\n",
    "        while (i > -1) & (A[i] > key):\n",
    "            A[i+1] = A[i]\n",
    "            i = i-1\n",
    "            steps = steps + 1\n",
    "        A[i+1] = key\n",
    "    return A, steps\n"
   ]
  },
  {
   "cell_type": "markdown",
   "metadata": {},
   "source": [
    "<h1 style=\"font-size:200%; background-color:\t\n",
    "TEAL; color:white; text-align:center; line-height : 50px;\">\n",
    " Funciones de Itertools</h1>"
   ]
  },
  {
   "cell_type": "code",
   "execution_count": 3,
   "metadata": {},
   "outputs": [],
   "source": [
    "#Función que permite la permutación con Itertools y contar el número de instrucciones, preguntas del while, \n",
    "#comparaciones e intercambios\n",
    "\n",
    "#n = número hasta el cual se desea crear el arreglo\n",
    "#fun = función que cuenta el item deseado\n",
    "def InsSortIt(n,fun):\n",
    "    per = itertools.permutations(range(1,n+1))\n",
    "    per = np.array(list(per))\n",
    "    print(\"Número de permutaciones para un arreglo con \"+ str(n) +\" elementos: \" + str(len(per)))\n",
    "    times = []\n",
    "    for i in range(len(per)):\n",
    "        D, t = fun(per[i])\n",
    "        times.append(t)\n",
    "    times = np.array(times)\n",
    "    print ('Mejor caso: ' + str(times.min()))\n",
    "    print ('Peor caso: ' + str(times.max()))\n",
    "    print ('Caso promedio: ' + str(times.sum()/len(times)))\n",
    "    plt.hist(times);\n",
    "    plt.grid(True)\n",
    "    plt.title(\"Distribución\");\n",
    "    plt.ylabel(\"Veces \")\n",
    "    plt.xlabel('Comparaciones')"
   ]
  },
  {
   "cell_type": "markdown",
   "metadata": {},
   "source": [
    "<h1 style=\"font-size:200%; background-color:\t\n",
    "TEAL; color:white; text-align:center; line-height : 50px;\">\n",
    "Implementación de los cuatro casos</h1>"
   ]
  },
  {
   "cell_type": "markdown",
   "metadata": {},
   "source": [
    "<h1 style=\"font-size:150%; background-color:\t\n",
    "TEAL; color:white; text-align:center; line-height : 50px;\">\n",
    "Número de Instrucciones</h1>"
   ]
  },
  {
   "cell_type": "code",
   "execution_count": 4,
   "metadata": {},
   "outputs": [
    {
     "name": "stdout",
     "output_type": "stream",
     "text": [
      "Número de permutaciones para un arreglo con 8 elementos: 40320\n",
      "Mejor caso: 36\n",
      "Peor caso: 120\n",
      "Caso promedio: 78.0\n"
     ]
    },
    {
     "data": {
      "image/png": "[encoded data removed]",
      "text/plain": [
       "<matplotlib.figure.Figure at 0x7f01dddb5f28>"
      ]
     },
     "metadata": {},
     "output_type": "display_data"
    }
   ],
   "source": [
    "InsSortIt(8,InsSortNum)"
   ]
  },
  {
   "cell_type": "markdown",
   "metadata": {},
   "source": [
    "<h1 style=\"font-size:150%; background-color:\t\n",
    "TEAL; color:white; text-align:center; line-height : 50px;\">\n",
    "Número de Comparaciones</h1>"
   ]
  },
  {
   "cell_type": "code",
   "execution_count": 5,
   "metadata": {},
   "outputs": [
    {
     "name": "stdout",
     "output_type": "stream",
     "text": [
      "Número de permutaciones para un arreglo con 8 elementos: 40320\n",
      "Mejor caso: 7\n",
      "Peor caso: 35\n",
      "Caso promedio: 21.0\n"
     ]
    },
    {
     "data": {
      "image/png": "[encoded data removed]",
      "text/plain": [
       "<matplotlib.figure.Figure at 0x7f01dd6e97f0>"
      ]
     },
     "metadata": {},
     "output_type": "display_data"
    }
   ],
   "source": [
    "InsSortIt(8,InsSortCom)"
   ]
  },
  {
   "cell_type": "markdown",
   "metadata": {},
   "source": [
    "<h1 style=\"font-size:150%; background-color:\t\n",
    "TEAL; color:white; text-align:center; line-height : 50px;\">\n",
    "Número de Preguntas</h1>"
   ]
  },
  {
   "cell_type": "code",
   "execution_count": 6,
   "metadata": {},
   "outputs": [
    {
     "name": "stdout",
     "output_type": "stream",
     "text": [
      "Número de permutaciones para un arreglo con 8 elementos: 40320\n",
      "Mejor caso: 7\n",
      "Peor caso: 35\n",
      "Caso promedio: 21.0\n"
     ]
    },
    {
     "data": {
      "image/png": "[encoded data removed]",
      "text/plain": [
       "<matplotlib.figure.Figure at 0x7f01dc8791d0>"
      ]
     },
     "metadata": {},
     "output_type": "display_data"
    }
   ],
   "source": [
    "InsSortIt(8,InsSortWhi)"
   ]
  },
  {
   "cell_type": "markdown",
   "metadata": {},
   "source": [
    "<h1 style=\"font-size:150%; background-color:\t\n",
    "TEAL; color:white; text-align:center; line-height : 50px;\">\n",
    "Número de Intercambios</h1>"
   ]
  },
  {
   "cell_type": "code",
   "execution_count": 7,
   "metadata": {},
   "outputs": [
    {
     "name": "stdout",
     "output_type": "stream",
     "text": [
      "Número de permutaciones para un arreglo con 8 elementos: 40320\n",
      "Mejor caso: 0\n",
      "Peor caso: 28\n",
      "Caso promedio: 14.0\n"
     ]
    },
    {
     "data": {
      "image/png": "[encoded data removed]",
      "text/plain": [
       "<matplotlib.figure.Figure at 0x7f01dd6f4588>"
      ]
     },
     "metadata": {},
     "output_type": "display_data"
    }
   ],
   "source": [
    "InsSortIt(8,InsSortSwap)"
   ]
  },
  {
   "cell_type": "markdown",
   "metadata": {},
   "source": [
    "<h1 style=\"font-size:200%; background-color:\t\n",
    "TEAL; color:white; text-align:center; line-height : 50px;\">\n",
    "Funciones a partir del codigo de Daniel Jimenez</h1>"
   ]
  },
  {
   "cell_type": "code",
   "execution_count": 8,
   "metadata": {},
   "outputs": [],
   "source": [
    "#Intercambia dos objetos en un arreglo\n",
    "def swap (array,i,j):\n",
    "    x = array[i]\n",
    "    array[i] = array[j]\n",
    "    array[j] = x\n",
    "    \n",
    "#Genera permutaciones\n",
    "def perDJ(array,inicio,final,fun,times):\n",
    "    A = array.copy()\n",
    "    if(inicio==final):\n",
    "        #print(A)\n",
    "        D,t = fun(A)\n",
    "        times.append(t)\n",
    "    else:\n",
    "        for k in range (inicio,final):\n",
    "            swap(A,inicio,k)\n",
    "            perDJ(A,inicio+1,final,fun,times)\n",
    "            swap(A,inicio,k)\n",
    "\n",
    "def InsSortDJ(n,fun):\n",
    "    times = []\n",
    "    array = np.array(range(1,n+1))\n",
    "    perDJ(array,0,len(array),fun,times)\n",
    "    times = np.array(times)\n",
    "    print(\"Número de permutaciones para un arreglo con \"+ str(n) +\" elementos: \" + str(len(times)))\n",
    "    print ('Mejor caso: ' + str(times.min()))\n",
    "    print ('Peor caso: ' + str(times.max()))\n",
    "    print ('Caso promedio: ' + str(times.sum()/len(times)))\n",
    "    plt.hist(times);\n",
    "    plt.grid(True)\n",
    "    plt.title(\"Distribución\");"
   ]
  },
  {
   "cell_type": "markdown",
   "metadata": {},
   "source": [
    "<h1 style=\"font-size:150%; background-color:\t\n",
    "TEAL; color:white; text-align:center; line-height : 50px;\">\n",
    "Número de Instrucciones</h1>"
   ]
  },
  {
   "cell_type": "code",
   "execution_count": 9,
   "metadata": {},
   "outputs": [
    {
     "name": "stdout",
     "output_type": "stream",
     "text": [
      "Número de permutaciones para un arreglo con 8 elementos: 40320\n",
      "Mejor caso: 36\n",
      "Peor caso: 120\n",
      "Caso promedio: 78.0\n"
     ]
    },
    {
     "data": {
      "image/png": "[encoded data removed]",
      "text/plain": [
       "<matplotlib.figure.Figure at 0x7f01dc7e5ef0>"
      ]
     },
     "metadata": {},
     "output_type": "display_data"
    }
   ],
   "source": [
    "InsSortDJ(8,InsSortNum)"
   ]
  },
  {
   "cell_type": "markdown",
   "metadata": {},
   "source": [
    "<h1 style=\"font-size:150%; background-color:\t\n",
    "TEAL; color:white; text-align:center; line-height : 50px;\">\n",
    "Número de Comparaciones</h1>"
   ]
  },
  {
   "cell_type": "code",
   "execution_count": 10,
   "metadata": {},
   "outputs": [
    {
     "name": "stdout",
     "output_type": "stream",
     "text": [
      "Número de permutaciones para un arreglo con 8 elementos: 40320\n",
      "Mejor caso: 7\n",
      "Peor caso: 35\n",
      "Caso promedio: 21.0\n"
     ]
    },
    {
     "data": {
      "image/png": "[encoded data removed]",
      "text/plain": [
       "<matplotlib.figure.Figure at 0x7f01dc7cff60>"
      ]
     },
     "metadata": {},
     "output_type": "display_data"
    }
   ],
   "source": [
    "InsSortDJ(8,InsSortCom)"
   ]
  },
  {
   "cell_type": "markdown",
   "metadata": {},
   "source": [
    "<h1 style=\"font-size:150%; background-color:\t\n",
    "TEAL; color:white; text-align:center; line-height : 50px;\">\n",
    "Número de Preguntas</h1>"
   ]
  },
  {
   "cell_type": "code",
   "execution_count": 11,
   "metadata": {},
   "outputs": [
    {
     "name": "stdout",
     "output_type": "stream",
     "text": [
      "Número de permutaciones para un arreglo con 8 elementos: 40320\n",
      "Mejor caso: 7\n",
      "Peor caso: 35\n",
      "Caso promedio: 21.0\n"
     ]
    },
    {
     "data": {
      "image/png": "[encoded data removed]",
      "text/plain": [
       "<matplotlib.figure.Figure at 0x7f01ddb09438>"
      ]
     },
     "metadata": {},
     "output_type": "display_data"
    }
   ],
   "source": [
    "InsSortDJ(8,InsSortWhi)"
   ]
  },
  {
   "cell_type": "markdown",
   "metadata": {},
   "source": [
    "<h1 style=\"font-size:150%; background-color:\t\n",
    "TEAL; color:white; text-align:center; line-height : 50px;\">\n",
    "Número de Intercambios</h1>"
   ]
  },
  {
   "cell_type": "code",
   "execution_count": 12,
   "metadata": {},
   "outputs": [
    {
     "name": "stdout",
     "output_type": "stream",
     "text": [
      "Número de permutaciones para un arreglo con 8 elementos: 40320\n",
      "Mejor caso: 0\n",
      "Peor caso: 28\n",
      "Caso promedio: 14.0\n"
     ]
    },
    {
     "data": {
      "image/png": "[encoded data removed]",
      "text/plain": [
       "<matplotlib.figure.Figure at 0x7f01dc8845c0>"
      ]
     },
     "metadata": {},
     "output_type": "display_data"
    }
   ],
   "source": [
    "InsSortDJ(8,InsSortSwap)"
   ]
  },
  {
   "cell_type": "code",
   "execution_count": null,
   "metadata": {},
   "outputs": [],
   "source": []
  }
 ],
 "metadata": {
  "kernelspec": {
   "display_name": "Python 3",
   "language": "python",
   "name": "python3"
  },
  "language_info": {
   "codemirror_mode": {
    "name": "ipython",
    "version": 3
   },
   "file_extension": ".py",
   "mimetype": "text/x-python",
   "name": "python",
   "nbconvert_exporter": "python",
   "pygments_lexer": "ipython3",
   "version": "3.6.4"
  }
 },
 "nbformat": 4,
 "nbformat_minor": 2
}
